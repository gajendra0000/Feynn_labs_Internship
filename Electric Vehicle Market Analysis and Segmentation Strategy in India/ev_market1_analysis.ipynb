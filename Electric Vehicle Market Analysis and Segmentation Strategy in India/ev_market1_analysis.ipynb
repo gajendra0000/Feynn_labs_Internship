{
 "cells": [
  {
   "cell_type": "markdown",
   "id": "0dd9e9ec",
   "metadata": {},
   "source": [
    "# EV Market Analysis in India\n",
    "\n",
    "## 1. Data Loading and Initial Exploration\n",
    "\n",
    "This notebook will be used to analyze the Electric Vehicle market in India. We will start by loading the `EVMarket-India_data.csv` file and performing an initial exploration of the data.\n"
   ]
  },
  {
   "cell_type": "code",
   "execution_count": null,
   "id": "d2771cbe",
   "metadata": {},
   "outputs": [],
   "source": [
    "import pandas as pd\n",
    "\n",
    "df = pd.read_csv('EVMarket-India_data.csv')\n",
    "print(df.head())\n",
    "print(df.info())\n"
   ]
  },
  {
   "cell_type": "markdown",
   "id": "4b4e6915",
   "metadata": {},
   "source": [
    "## 2. Exploratory Data Analysis (EDA)\n",
    "\n",
    "We will now perform some exploratory data analysis to understand the dataset better. This includes checking for missing values, descriptive statistics, and distributions of key features.\n"
   ]
  },
  {
   "cell_type": "code",
   "execution_count": null,
   "id": "b6f72857",
   "metadata": {},
   "outputs": [],
   "source": [
    "print(df.isnull().sum())\n",
    "print(df.describe())\n"
   ]
  },
  {
   "cell_type": "markdown",
   "id": "ff18153e",
   "metadata": {},
   "source": [
    "## 3. Feature Analysis and Correlation\n",
    "\n",
    "We will now analyze the distributions of key numerical features and examine correlations between them. This will help us identify important factors for segmentation.\n"
   ]
  },
  {
   "cell_type": "code",
   "execution_count": null,
   "id": "06b8ea13",
   "metadata": {},
   "outputs": [],
   "source": [
    "import matplotlib.pyplot as plt\n",
    "import seaborn as sns\n",
    "\n",
    "# Distribution of numerical features\n",
    "fig, axes = plt.subplots(nrows=2, ncols=3, figsize=(18, 12))\n",
    "sns.histplot(df[\"AccelSec\"], kde=True, ax=axes[0, 0])\n",
    "sns.histplot(df[\"TopSpeed_KmH\"], kde=True, ax=axes[0, 1])\n",
    "sns.histplot(df[\"Range_Km\"], kde=True, ax=axes[0, 2])\n",
    "sns.histplot(df[\"Efficiency_WhKm\"], kde=True, ax=axes[1, 0])\n",
    "sns.histplot(df[\"FastCharge_KmH\"], kde=True, ax=axes[1, 1])\n",
    "sns.histplot(df[\"PriceEuro\"], kde=True, ax=axes[1, 2])\n",
    "plt.tight_layout()\n",
    "plt.savefig(\"numerical_feature_distributions.png\")\n",
    "plt.clf()\n",
    "\n",
    "# Correlation matrix\n",
    "plt.figure(figsize=(10, 8))\n",
    "sns.heatmap(df.select_dtypes(include=[\"int64\", \"float64\"]).corr(), annot=True, cmap=\"coolwarm\")\n",
    "plt.title(\"Correlation Matrix of Numerical Features\")\n",
    "plt.savefig(\"correlation_matrix.png\")\n",
    "plt.clf()\n"
   ]
  },
  {
   "cell_type": "markdown",
   "id": "1321e399",
   "metadata": {},
   "source": [
    "## 4. Market Segmentation using Clustering\n",
    "\n",
    "We will use K-Means clustering to identify potential market segments based on vehicle characteristics and price. Before clustering, we need to scale the numerical features.\n"
   ]
  },
  {
   "cell_type": "code",
   "execution_count": null,
   "id": "e5648bca",
   "metadata": {},
   "outputs": [],
   "source": [
    "from sklearn.preprocessing import StandardScaler\n",
    "from sklearn.cluster import KMeans\n",
    "import matplotlib.pyplot as plt\n",
    "import seaborn as sns\n",
    "\n",
    "# Select numerical features for clustering\n",
    "features = [\"AccelSec\", \"TopSpeed_KmH\", \"Range_Km\", \"Efficiency_WhKm\", \"PriceEuro\"]\n",
    "X = df[features]\n",
    "\n",
    "# Scale the features\n",
    "scaler = StandardScaler()\n",
    "X_scaled = scaler.fit_transform(X)\n",
    "\n",
    "# Determine the optimal number of clusters using the elbow method\n",
    "Sum_of_squared_distances = []\n",
    "K = range(1, 10)\n",
    "for k in K:\n",
    "    km = KMeans(n_clusters=k, random_state=42, n_init=10)\n",
    "    km = km.fit(X_scaled)\n",
    "    Sum_of_squared_distances.append(km.inertia_)\n",
    "\n",
    "plt.figure(figsize=(8, 6))\n",
    "plt.plot(K, Sum_of_squared_distances, \"bx-\")\n",
    "plt.xlabel(\"k\")\n",
    "plt.ylabel(\"Sum of squared distances\")\n",
    "plt.title(\"Elbow Method For Optimal k\")\n",
    "plt.savefig(\"/home/ubuntu/elbow_method.png\")\n",
    "plt.clf()\n"
   ]
  },
  {
   "cell_type": "markdown",
   "id": "228f3dfe",
   "metadata": {},
   "source": [
    "Based on the elbow method, we will choose 3 as the optimal number of clusters.\n"
   ]
  },
  {
   "cell_type": "code",
   "execution_count": null,
   "id": "f303c981",
   "metadata": {},
   "outputs": [],
   "source": [
    "# Apply K-Means clustering with optimal k\n",
    "k = 3\n",
    "kmeans = KMeans(n_clusters=k, random_state=42, n_init=10)\n",
    "df[\"Cluster\"] = kmeans.fit_predict(X_scaled)\n",
    "\n",
    "# Analyze cluster characteristics\n",
    "cluster_centers = pd.DataFrame(scaler.inverse_transform(kmeans.cluster_centers_), columns=features)\n",
    "print(cluster_centers)\n",
    "\n",
    "# Visualize clusters\n",
    "sns.pairplot(df, hue=\"Cluster\", vars=features)\n",
    "plt.suptitle(\"Pair Plot of Features by Cluster\", y=1.02)\n",
    "plt.savefig(\"/home/ubuntu/cluster_pairplot.png\")\n",
    "plt.clf()\n"
   ]
  },
  {
   "cell_type": "markdown",
   "id": "a60f0b73",
   "metadata": {},
   "source": [
    "## 5. Cluster Analysis and Segment Profiling\n",
    "\n",
    "Based on the cluster centers, we can analyze the characteristics of each segment and give them a descriptive name.\n"
   ]
  },
  {
   "cell_type": "code",
   "execution_count": null,
   "id": "57ce4216",
   "metadata": {},
   "outputs": [],
   "source": [
    "# Analyze cluster characteristics (referencing the output from the previous step)\n",
    "# Cluster 0: Low Price, Moderate Range, Moderate Performance\n",
    "# Cluster 1: High Price, High Performance, High Range, High Efficiency, Fast Charging\n",
    "# Cluster 2: Moderate Price, Moderate Performance, Moderate Range, Moderate Efficiency, Mixed Charging\n",
    "\n",
    "# Add cluster labels to the original dataframe for further analysis\n",
    "df[\"Cluster\"] = kmeans.labels_\n",
    "\n",
    "# Analyze other features within each cluster (e.g., BodyStyle, Segment, PowerTrain, PlugType)\n",
    "for cluster_id in range(k):\n",
    "    print(f\"\\nCluster {cluster_id} Analysis:\")\n",
    "    print(df[df[\"Cluster\"] == cluster_id][[[\"Brand\", \"Model\", \"BodyStyle\", \"Segment\", \"PowerTrain\", \"PlugType\"]]].value_counts())\n"
   ]
  },
  {
   "cell_type": "markdown",
   "id": "2aa8032f",
   "metadata": {},
   "source": [
    "## 6. Strategic Analysis and Market Entry Strategy\n",
    "\n",
    "Based on the identified clusters and the Innovation Adoption Life Cycle, we can formulate a market entry strategy.\n",
    "\n",
    "### 6.1. Segment Profiling and Target Audience\n",
    "\n",
    "From the cluster analysis, we can define the characteristics of each segment:\n",
    "\n",
    "*   **Cluster 0: Budget-Conscious Commuters**\n",
    "    *   **Vehicle Characteristics:** Lower price, moderate range, moderate performance, often smaller body styles (e.g., Hatchback, Sedan).\n",
    "    *   **Inferred Demographics:** Middle-income individuals, urban and semi-urban dwellers, possibly first-time EV buyers, or those looking for a second car for city commutes.\n",
    "    *   **Inferred Psychographics:** Practical, value-conscious, environmentally aware but budget-limited, early majority/late majority adopters.\n",
    "    *   **Inferred Behavioral:** Primarily use vehicles for daily commuting, short-distance travel, prioritize running costs and affordability.\n",
    "\n",
    "*   **Cluster 1: Performance & Range Seekers**\n",
    "    *   **Vehicle Characteristics:** Higher price, high performance (quick acceleration, high top speed), long range, high efficiency, often SUVs or larger sedans.\n",
    "    *   **Inferred Demographics:** High-income individuals, urban dwellers, tech-savvy, early adopters/early majority.\n",
    "    *   **Inferred Psychographics:** Status-conscious, prioritize performance and advanced technology, willing to pay a premium for features and range, environmentally conscious but not at the expense of performance.\n",
    "    *   **Inferred Behavioral:** Frequent travelers, desire for a primary vehicle, early adopters of new technology, may have access to private charging.\n",
    "\n",
    "*   **Cluster 2: Luxury & Premium Segment**\n",
    "    *   **Vehicle Characteristics:** Very high price, top-tier performance, very long range, luxury features, often premium sedans or large SUVs.\n",
    "    *   **Inferred Demographics:** Affluent individuals, residing in metropolitan areas, established early adopters/innovators.\n",
    "    *   **Inferred Psychographics:** Exclusivity-seeking, prioritize luxury, brand image, and cutting-edge technology, not price-sensitive, innovators.\n",
    "    *   **Inferred Behavioral:** Own multiple vehicles, early adopters of new technology, likely have home charging solutions, use vehicles for long-distance travel and leisure.\n",
    "\n",
    "### 6.2. Location Analysis for Early Market Entry (Innovation Adoption Life Cycle)\n",
    "\n",
    "Considering the Innovation Adoption Life Cycle, the initial target market should focus on **Innovators** and **Early Adopters**. These groups are more willing to take risks, are less price-sensitive, and are keen on new technologies. Based on the segment profiling, **Cluster 2 (Luxury & Premium Segment)** and **Cluster 1 (Performance & Range Seekers)** align best with these adopter categories.\n",
    "\n",
    "Therefore, the most suitable locations for early market entry would be major metropolitan cities in India with a high concentration of affluent and tech-savvy individuals, and relatively better EV infrastructure. These include:\n",
    "\n",
    "*   **Tier-1 Cities:** Mumbai, Delhi-NCR, Bangalore, Chennai, Hyderabad, Pune.\n",
    "    *   **Justification:** These cities have a higher disposable income, a larger population of early adopters, better existing charging infrastructure (or potential for rapid development), and a greater awareness of global trends and environmental concerns.\n",
    "\n",
    "### 6.3. Strategic Pricing Range\n",
    "\n",
    "The strategic pricing range should align with the target segments (Innovators and Early Adopters) and their psychographics. Given that these segments are less price-sensitive and value performance, luxury, and technology, the pricing should reflect a premium offering.\n",
    "\n",
    "*   **For Cluster 2 (Luxury & Premium Segment):** Pricing should be at the higher end, reflecting the exclusivity, advanced features, and superior performance. This could range from **€70,000 to €200,000+** (or equivalent in INR), targeting the top 1-2% of the market.\n",
    "\n",
    "*   **For Cluster 1 (Performance & Range Seekers):** Pricing should be competitive within the premium segment, offering a balance of performance, range, and features. This could range from **€40,000 to €70,000** (or equivalent in INR), targeting the next 5-10% of the market.\n",
    "\n",
    "It's crucial to note that while the initial focus is on these segments, the long-term strategy should involve gradually introducing more affordable models (targeting Cluster 0 - Budget-Conscious Commuters) to cross the chasm and reach the early and late majority as the market matures and infrastructure develops.\n",
    "\n",
    "### 6.4. Unavailability of Proper Datasets and Decision Making\n",
    "\n",
    "In the event of unavailability of proper datasets for psychographic and behavioral factors, decisions can be based on:\n",
    "\n",
    "*   **Qualitative Research:** Conducting in-depth interviews, focus groups, and surveys with potential customers in target cities to understand their motivations, preferences, and pain points regarding EV adoption. This can provide rich insights into psychographics and behaviors.\n",
    "*   **Expert Interviews:** Consulting with industry experts, automotive analysts, and thought leaders in the Indian EV space to gather their perspectives and insights on market trends and consumer behavior.\n",
    "*   **Proxy Data and Analogies:** Utilizing data from similar markets (e.g., other developing economies with nascent EV markets) as a proxy, while carefully considering cultural and economic differences. Drawing analogies from the adoption of other new technologies in India (e.g., smartphones, internet) can also provide valuable insights.\n",
    "*   **Pilot Programs and A/B Testing:** Launching small-scale pilot programs in selected areas to test different product offerings, pricing strategies, and marketing messages. A/B testing various approaches can provide data-driven insights even with limited initial datasets.\n",
    "*   **Observational Studies:** Observing consumer behavior in existing EV ecosystems (e.g., charging stations, EV showrooms) to understand real-world usage patterns and preferences.\n",
    "*   **Academic Research and White Papers:** Leveraging existing academic research, white papers, and reports on consumer behavior, technology adoption, and the automotive industry in India.\n",
    "\n",
    "To ensure decisions are as accurate and unbiased as possible:\n",
    "\n",
    "*   **Triangulation:** Combining insights from multiple data sources (qualitative, quantitative, expert opinions) to cross-validate findings and reduce bias.\n",
    "*   **Hypothesis Testing:** Formulating clear hypotheses about target segments and testing them rigorously with available data and research methods.\n",
    "*   **Iterative Approach:** Adopting an iterative approach to strategy development, where initial assumptions are continuously refined and validated with new data and market feedback.\n",
    "*   **Transparency and Documentation:** Clearly documenting all assumptions, data sources, and decision-making processes to ensure transparency and allow for future review and adjustment.\n",
    "*   **Diversity in Research Team:** Ensuring a diverse research team with varied perspectives to minimize inherent biases in data interpretation and strategy formulation.\n"
   ]
  }
 ],
 "metadata": {},
 "nbformat": 4,
 "nbformat_minor": 5
}
